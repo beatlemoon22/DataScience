{
 "cells": [
  {
   "cell_type": "code",
   "execution_count": 3,
   "metadata": {},
   "outputs": [
    {
     "data": {
      "text/plain": [
       "<bound method NDFrame.describe of        Unnamed: 0    0    1    2    3    4    5    6    7    8  ...    550  \\\n",
       "0               0  0.0  0.0  0.0  0.0  0.0  0.0  0.0  0.0  0.0  ...    0.0   \n",
       "1               1  0.0  0.0  0.0  0.0  0.0  0.0  0.0  0.0  0.0  ...    0.0   \n",
       "2               2  0.0  0.0  0.0  0.0  0.0  0.0  0.0  0.0  0.0  ...  255.0   \n",
       "3               3  0.0  0.0  0.0  0.0  0.0  0.0  0.0  0.0  0.0  ...    0.0   \n",
       "4               4  0.0  0.0  0.0  0.0  0.0  0.0  0.0  0.0  0.0  ...    0.0   \n",
       "...           ...  ...  ...  ...  ...  ...  ...  ...  ...  ...  ...    ...   \n",
       "69995       69995  0.0  0.0  0.0  0.0  0.0  0.0  0.0  0.0  0.0  ...    0.0   \n",
       "69996       69996  0.0  0.0  0.0  0.0  0.0  0.0  0.0  0.0  0.0  ...    0.0   \n",
       "69997       69997  0.0  0.0  0.0  0.0  0.0  0.0  0.0  0.0  0.0  ...    0.0   \n",
       "69998       69998  0.0  0.0  0.0  0.0  0.0  0.0  0.0  0.0  0.0  ...    0.0   \n",
       "69999       69999  0.0  0.0  0.0  0.0  0.0  0.0  0.0  0.0  0.0  ...    0.0   \n",
       "\n",
       "         551  552  553  554  555  556  557  558  559  \n",
       "0        0.0  0.0  0.0  0.0  0.0  0.0  0.0  0.0  0.0  \n",
       "1        0.0  0.0  0.0  0.0  0.0  0.0  0.0  0.0  0.0  \n",
       "2      153.0  0.0  0.0  0.0  0.0  0.0  0.0  0.0  0.0  \n",
       "3        0.0  0.0  0.0  0.0  0.0  0.0  0.0  0.0  0.0  \n",
       "4        0.0  0.0  0.0  0.0  0.0  0.0  0.0  0.0  0.0  \n",
       "...      ...  ...  ...  ...  ...  ...  ...  ...  ...  \n",
       "69995    0.0  0.0  0.0  0.0  0.0  0.0  0.0  0.0  0.0  \n",
       "69996    0.0  0.0  0.0  0.0  0.0  0.0  0.0  0.0  0.0  \n",
       "69997    0.0  0.0  0.0  0.0  0.0  0.0  0.0  0.0  0.0  \n",
       "69998    0.0  0.0  0.0  0.0  0.0  0.0  0.0  0.0  0.0  \n",
       "69999    0.0  0.0  0.0  0.0  0.0  0.0  0.0  0.0  0.0  \n",
       "\n",
       "[70000 rows x 561 columns]>"
      ]
     },
     "execution_count": 3,
     "metadata": {},
     "output_type": "execute_result"
    }
   ],
   "source": [
    "import numpy as np\n",
    "import pandas as pd\n",
    "\n",
    "X = pd.read_csv(\"MNIST_data.csv\")\n",
    "X.describe"
   ]
  },
  {
   "cell_type": "code",
   "execution_count": 4,
   "metadata": {},
   "outputs": [
    {
     "data": {
      "text/plain": [
       "<bound method NDFrame.describe of 0        5\n",
       "1        0\n",
       "2        4\n",
       "3        1\n",
       "4        9\n",
       "        ..\n",
       "69995    2\n",
       "69996    3\n",
       "69997    4\n",
       "69998    5\n",
       "69999    6\n",
       "Name: 0, Length: 70000, dtype: int64>"
      ]
     },
     "execution_count": 4,
     "metadata": {},
     "output_type": "execute_result"
    }
   ],
   "source": [
    "y = pd.read_csv(\"MNIST_labels.csv\")\n",
    "y = y.iloc[:,1]\n",
    "y.describe"
   ]
  },
  {
   "cell_type": "code",
   "execution_count": 5,
   "metadata": {},
   "outputs": [
    {
     "name": "stdout",
     "output_type": "stream",
     "text": [
      "(56000, 561)\n",
      "(14000, 561)\n"
     ]
    }
   ],
   "source": [
    "#Splitting the dataset into the Training set and Test set\n",
    "from sklearn.model_selection import train_test_split\n",
    "X_train, X_test, y_train, y_test = train_test_split(X, y, test_size = 0.2, random_state = 0)\n",
    "print(X_train.shape)\n",
    "print(X_test.shape)"
   ]
  },
  {
   "cell_type": "code",
   "execution_count": 6,
   "metadata": {},
   "outputs": [],
   "source": [
    "#Feature Scaling\n",
    "from sklearn.preprocessing import StandardScaler\n",
    "sc = StandardScaler()\n",
    "X_train = sc.fit_transform(X_train)\n",
    "X_test = sc.transform(X_test)"
   ]
  },
  {
   "cell_type": "code",
   "execution_count": 7,
   "metadata": {},
   "outputs": [
    {
     "data": {
      "text/plain": [
       "DecisionTreeClassifier(class_weight=None, criterion='entropy', max_depth=None,\n",
       "                       max_features=None, max_leaf_nodes=None,\n",
       "                       min_impurity_decrease=0.0, min_impurity_split=None,\n",
       "                       min_samples_leaf=1, min_samples_split=2,\n",
       "                       min_weight_fraction_leaf=0.0, presort=False,\n",
       "                       random_state=0, splitter='best')"
      ]
     },
     "execution_count": 7,
     "metadata": {},
     "output_type": "execute_result"
    }
   ],
   "source": [
    "# Training the Decision Tree model on the Training set\n",
    "from sklearn.tree import DecisionTreeClassifier\n",
    "classifier = DecisionTreeClassifier(criterion = 'entropy', random_state = 0)\n",
    "classifier.fit(X_train, y_train)"
   ]
  },
  {
   "cell_type": "code",
   "execution_count": 17,
   "metadata": {},
   "outputs": [
    {
     "name": "stdout",
     "output_type": "stream",
     "text": [
      "[7]\n"
     ]
    }
   ],
   "source": [
    "#Predicting a new result\n",
    "print(classifier.predict(sc.transform([X.iloc[69000,:]])))"
   ]
  },
  {
   "cell_type": "code",
   "execution_count": 18,
   "metadata": {},
   "outputs": [
    {
     "name": "stdout",
     "output_type": "stream",
     "text": [
      "<class 'numpy.ndarray'>\n"
     ]
    }
   ],
   "source": [
    "y_pred = classifier.predict(X_test)\n",
    "print(type(y_pred))\n",
    "#print(y_pred[-10:])\n",
    "#print(y_test[-10:])"
   ]
  },
  {
   "cell_type": "code",
   "execution_count": 22,
   "metadata": {},
   "outputs": [
    {
     "name": "stdout",
     "output_type": "stream",
     "text": [
      "[[1281    1   15   13   12   22   13    4   15   11]\n",
      " [   1 1512   15    6    7    6    2   17   12    2]\n",
      " [  16    9 1224   34   19   17   32   37   40   15]\n",
      " [  10   12   35 1210    7   75    8   21   34   23]\n",
      " [   7    8   13    5 1176   12   15   16   29   69]\n",
      " [  15    4   12   51   10 1038   28    9   34   30]\n",
      " [  14    7   22   13   27   21 1248    1   24   10]\n",
      " [   6   11   41   19   16   13    4 1304    7   37]\n",
      " [   5   17   37   37   24   36   23   15 1126   48]\n",
      " [   6    3   11   28   72   32    5   35   31 1138]]\n"
     ]
    },
    {
     "data": {
      "text/plain": [
       "0.8755"
      ]
     },
     "execution_count": 22,
     "metadata": {},
     "output_type": "execute_result"
    }
   ],
   "source": [
    "#Making the Confusion Matrix\n",
    "sklearn.metrics import confusion_matrix, accuracy_score, f1_score,multilabel_confusion_matrix\n",
    "cm = confusion_matrix(y_test, y_pred)\n",
    "print(cm)\n",
    "accuracy_score(y_test, y_pred)"
   ]
  },
  {
   "cell_type": "code",
   "execution_count": 23,
   "metadata": {},
   "outputs": [
    {
     "data": {
      "text/plain": [
       "0.873872764584976"
      ]
     },
     "execution_count": 23,
     "metadata": {},
     "output_type": "execute_result"
    }
   ],
   "source": [
    "f1_score(y_test, y_pred, average=\"macro\")"
   ]
  },
  {
   "cell_type": "code",
   "execution_count": 24,
   "metadata": {},
   "outputs": [
    {
     "name": "stdout",
     "output_type": "stream",
     "text": [
      "[[[12533    80]\n",
      "  [  106  1281]]\n",
      "\n",
      " [[12348    72]\n",
      "  [   68  1512]]\n",
      "\n",
      " [[12356   201]\n",
      "  [  219  1224]]\n",
      "\n",
      " [[12359   206]\n",
      "  [  225  1210]]\n",
      "\n",
      " [[12456   194]\n",
      "  [  174  1176]]\n",
      "\n",
      " [[12535   234]\n",
      "  [  193  1038]]\n",
      "\n",
      " [[12483   130]\n",
      "  [  139  1248]]\n",
      "\n",
      " [[12387   155]\n",
      "  [  154  1304]]\n",
      "\n",
      " [[12406   226]\n",
      "  [  242  1126]]\n",
      "\n",
      " [[12394   245]\n",
      "  [  223  1138]]]\n"
     ]
    }
   ],
   "source": [
    "matrix = multilabel_confusion_matrix(y_test, y_pred)\n",
    "print(matrix)"
   ]
  },
  {
   "cell_type": "code",
   "execution_count": null,
   "metadata": {},
   "outputs": [],
   "source": []
  }
 ],
 "metadata": {
  "kernelspec": {
   "display_name": "Python 3",
   "language": "python",
   "name": "python3"
  },
  "language_info": {
   "codemirror_mode": {
    "name": "ipython",
    "version": 3
   },
   "file_extension": ".py",
   "mimetype": "text/x-python",
   "name": "python",
   "nbconvert_exporter": "python",
   "pygments_lexer": "ipython3",
   "version": "3.7.4"
  }
 },
 "nbformat": 4,
 "nbformat_minor": 2
}
