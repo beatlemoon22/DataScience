{
 "cells": [
  {
   "cell_type": "code",
   "execution_count": null,
   "metadata": {},
   "outputs": [],
   "source": []
  },
  {
   "cell_type": "code",
   "execution_count": null,
   "metadata": {},
   "outputs": [],
   "source": []
  },
  {
   "cell_type": "code",
   "execution_count": null,
   "metadata": {},
   "outputs": [],
   "source": [
    "#BUILDING THE ANN\n",
    "ann =tf.keras.models.Sequential()\n",
    "ann.add(tf.keras.layers.Dense(units=6,activation=\"relu\"))#units are number of neurons in first hidden layer\n",
    "ann.add(tf.keras.layers.Dense(units=6,activation=\"relu\"))#units are number of neurons in 2nd hidden layer\n",
    "#BUILDING OUTPUT LAYER\n",
    "ann.add(tf.keras.layers.Dense(units=10,activation=\"sigmoid\"))\n",
    "print(type(ann))"
   ]
  },
  {
   "cell_type": "code",
   "execution_count": null,
   "metadata": {},
   "outputs": [],
   "source": [
    "#ann.compile(optimizer=\"adam\",loss=,,metrics= )"
   ]
  }
 ],
 "metadata": {
  "kernelspec": {
   "display_name": "Python 3",
   "language": "python",
   "name": "python3"
  },
  "language_info": {
   "codemirror_mode": {
    "name": "ipython",
    "version": 3
   },
   "file_extension": ".py",
   "mimetype": "text/x-python",
   "name": "python",
   "nbconvert_exporter": "python",
   "pygments_lexer": "ipython3",
   "version": "3.7.4"
  }
 },
 "nbformat": 4,
 "nbformat_minor": 2
}
