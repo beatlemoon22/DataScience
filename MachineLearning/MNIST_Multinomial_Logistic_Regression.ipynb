{
 "cells": [
  {
   "cell_type": "code",
   "execution_count": 148,
   "metadata": {},
   "outputs": [
    {
     "name": "stdout",
     "output_type": "stream",
     "text": [
      "(60000, 28, 28, 1)\n",
      "<class 'numpy.ndarray'>\n"
     ]
    }
   ],
   "source": [
    "#TRAINING IMAGES INPUT\n",
    "import gzip\n",
    "import numpy as np\n",
    "import tensorflow as tf\n",
    "import pandas as pd\n",
    "\n",
    "f = gzip.open('train-images-idx3-ubyte.gz','r') #f is a file\n",
    "image_size = 28  #originally 28\n",
    "num_images = 60000\n",
    "\n",
    "f.read(16)\n",
    "buf = f.read(image_size * image_size * num_images)\n",
    "data = np.frombuffer(buf, dtype=np.uint8).astype(np.float32)\n",
    "data = data.reshape(num_images, image_size, image_size, 1)\n",
    "print(data.shape)\n",
    "print(type(data))"
   ]
  },
  {
   "cell_type": "code",
   "execution_count": 149,
   "metadata": {},
   "outputs": [
    {
     "name": "stdout",
     "output_type": "stream",
     "text": [
      "60000\n"
     ]
    }
   ],
   "source": [
    "#TRAINING LABELS INPUT\n",
    "f = gzip.open('train-labels-idx1-ubyte.gz','r') #f is a file\n",
    "f.read(8)\n",
    "z = f.read() #z is a bytes #z has all the labels\n",
    "labels = []\n",
    "for i in z:\n",
    "    labels.append(i)\n",
    "labels = np.array(labels)\n",
    "#len(bites)\n",
    "print(labels.size)"
   ]
  },
  {
   "cell_type": "code",
   "execution_count": 150,
   "metadata": {},
   "outputs": [
    {
     "name": "stdout",
     "output_type": "stream",
     "text": [
      "(10000, 28, 28, 1)\n"
     ]
    }
   ],
   "source": [
    "#TEST IMAGES \n",
    "f = gzip.open('t10k-images-idx3-ubyte.gz','r') #f is a file\n",
    "image_size = 28  #originally 28\n",
    "num_images = 10000\n",
    "\n",
    "f.read(16)\n",
    "buf = f.read(image_size * image_size * num_images)\n",
    "data1 = np.frombuffer(buf, dtype=np.uint8).astype(np.float32)\n",
    "data1 = data1.reshape(num_images, image_size, image_size, 1)\n",
    "print(data1.shape)"
   ]
  },
  {
   "cell_type": "code",
   "execution_count": 151,
   "metadata": {},
   "outputs": [
    {
     "data": {
      "text/plain": [
       "10000"
      ]
     },
     "execution_count": 151,
     "metadata": {},
     "output_type": "execute_result"
    }
   ],
   "source": [
    "#TEST LABELS\n",
    "f = gzip.open('t10k-labels-idx1-ubyte.gz','r') #f is a file\n",
    "f.read(8)\n",
    "z = f.read() #z is a bytes #z has all the labels\n",
    "labels2 = []\n",
    "for i in z:\n",
    "    labels2.append(i)\n",
    "labels2 = np.array(labels2)\n",
    "len(labels2)"
   ]
  },
  {
   "cell_type": "code",
   "execution_count": 152,
   "metadata": {},
   "outputs": [
    {
     "name": "stdout",
     "output_type": "stream",
     "text": [
      "70000\n"
     ]
    }
   ],
   "source": [
    "#want to combine test and train data\n",
    "#let's first combine the labels #bites\n",
    "labels = labels.tolist()\n",
    "len(labels)\n",
    "labels2 = labels2.tolist()\n",
    "len(labels2)\n",
    "labels = labels + labels2\n",
    "print(len(labels))"
   ]
  },
  {
   "cell_type": "code",
   "execution_count": 153,
   "metadata": {},
   "outputs": [
    {
     "name": "stdout",
     "output_type": "stream",
     "text": [
      "sup\n",
      "hi\n",
      "hello\n",
      "(70000, 28, 28, 1)\n"
     ]
    }
   ],
   "source": [
    "#combining data arrays\n",
    "data = data.tolist()\n",
    "print(\"sup\")\n",
    "data1 = data1.tolist()\n",
    "print(\"hi\")\n",
    "data = data + data1\n",
    "print(\"hello\")\n",
    "data = np.array(data)\n",
    "print(data.shape)"
   ]
  },
  {
   "cell_type": "code",
   "execution_count": 154,
   "metadata": {},
   "outputs": [],
   "source": []
  },
  {
   "cell_type": "code",
   "execution_count": 137,
   "metadata": {},
   "outputs": [
    {
     "name": "stdout",
     "output_type": "stream",
     "text": [
      "(60000, 28, 28, 1)\n"
     ]
    }
   ],
   "source": []
  },
  {
   "cell_type": "code",
   "execution_count": 155,
   "metadata": {},
   "outputs": [
    {
     "name": "stdout",
     "output_type": "stream",
     "text": [
      "vectors 70000\n"
     ]
    }
   ],
   "source": [
    "#manipulating data array so that each row is a picture and columns are the bits\n",
    "#print(data[0,:,:].shape)\n",
    "#print(data[3,4:24,:,0]) #data[i,:,:,0] return ith matrix with blank header and footer\n",
    "#data[i,4:-4,:,0] return ith matrix without footers\n",
    "\n",
    "vectors = []\n",
    "for matrix in range(70000):#70000\n",
    "    vector = []\n",
    "    for row in range(4,24):\n",
    "        for col in range(0,28):\n",
    "            vector.append(data[matrix,row,col,0])\n",
    "    #print(vector)\n",
    "    \n",
    "    vectors.append(vector)\n",
    "print(\"vectors \",end=\"\")\n",
    "print(len(vectors))"
   ]
  },
  {
   "cell_type": "code",
   "execution_count": null,
   "metadata": {},
   "outputs": [],
   "source": []
  },
  {
   "cell_type": "code",
   "execution_count": 156,
   "metadata": {},
   "outputs": [
    {
     "name": "stdout",
     "output_type": "stream",
     "text": [
      "(70000, 560)\n"
     ]
    }
   ],
   "source": [
    "vectors = np.array(vectors)\n",
    "print(vectors.shape)"
   ]
  },
  {
   "cell_type": "code",
   "execution_count": 157,
   "metadata": {},
   "outputs": [
    {
     "data": {
      "image/png": "[encoded data removed]",
      "text/plain": [
       "<Figure size 432x288 with 1 Axes>"
      ]
     },
     "metadata": {
      "needs_background": "light"
     },
     "output_type": "display_data"
    }
   ],
   "source": [
    "import matplotlib.pyplot as plt\n",
    "%matplotlib inline\n",
    "import time\n",
    "for i in range(69000,69001):\n",
    "    #print(data[1])\n",
    "    image = np.asarray(data[i,4:24,:,0]).squeeze()\n",
    "    plt.imshow(image)\n",
    "    plt.show()"
   ]
  },
  {
   "cell_type": "code",
   "execution_count": 158,
   "metadata": {},
   "outputs": [
    {
     "name": "stdout",
     "output_type": "stream",
     "text": [
      "70000\n"
     ]
    }
   ],
   "source": [
    "#need to one hot encode the output layer\n",
    "X = data\n",
    "y = labels\n",
    "print(len(labels))\n",
    "#y = pd.DataFrame(y,columns=[\"Labels\"])\n",
    "#y.head()"
   ]
  },
  {
   "cell_type": "code",
   "execution_count": 119,
   "metadata": {},
   "outputs": [],
   "source": [
    "#y = pd.get_dummies(y,columns=[\"Labels\"])\n",
    "#y.head()"
   ]
  },
  {
   "cell_type": "code",
   "execution_count": 120,
   "metadata": {},
   "outputs": [],
   "source": [
    "#y = y.to_numpy()\n",
    "#print(y.shape)\n",
    "#print(y)"
   ]
  },
  {
   "cell_type": "code",
   "execution_count": 159,
   "metadata": {},
   "outputs": [
    {
     "name": "stdout",
     "output_type": "stream",
     "text": [
      "(56000, 560)\n",
      "(14000, 560)\n"
     ]
    }
   ],
   "source": [
    "#Splitting the dataset into the Training set and Test set\n",
    "\n",
    "from sklearn.model_selection import train_test_split\n",
    "X_train, X_test, y_train, y_test = train_test_split(vectors, y, test_size = 0.2, random_state = 0)\n",
    "print(X_train.shape)\n",
    "print(X_test.shape)"
   ]
  },
  {
   "cell_type": "code",
   "execution_count": 160,
   "metadata": {},
   "outputs": [],
   "source": [
    "#Feature Scaling\n",
    "from sklearn.preprocessing import StandardScaler\n",
    "sc = StandardScaler()\n",
    "X_train = sc.fit_transform(X_train)\n",
    "X_test = sc.transform(X_test)"
   ]
  },
  {
   "cell_type": "code",
   "execution_count": 161,
   "metadata": {},
   "outputs": [
    {
     "data": {
      "text/plain": [
       "LogisticRegression(C=1.0, class_weight=None, dual=False, fit_intercept=True,\n",
       "                   intercept_scaling=1, l1_ratio=None, max_iter=100,\n",
       "                   multi_class='multinomial', n_jobs=None, penalty='l2',\n",
       "                   random_state=0, solver='newton-cg', tol=0.0001, verbose=0,\n",
       "                   warm_start=False)"
      ]
     },
     "execution_count": 161,
     "metadata": {},
     "output_type": "execute_result"
    }
   ],
   "source": [
    "# Training the Logistic Regression model on the Training set\n",
    "from sklearn.linear_model import LogisticRegression\n",
    "classifier = LogisticRegression(random_state = 0,multi_class=\"multinomial\", solver='newton-cg')\n",
    "classifier.fit(X_train, y_train)"
   ]
  },
  {
   "cell_type": "code",
   "execution_count": 162,
   "metadata": {},
   "outputs": [
    {
     "name": "stdout",
     "output_type": "stream",
     "text": [
      "[7]\n"
     ]
    }
   ],
   "source": [
    "#Predicting a new result\n",
    "print(classifier.predict(sc.transform([vectors[69000]])))"
   ]
  },
  {
   "cell_type": "code",
   "execution_count": 167,
   "metadata": {},
   "outputs": [
    {
     "name": "stdout",
     "output_type": "stream",
     "text": [
      "<class 'numpy.ndarray'>\n",
      "[8 5 7 9 0 3 2 7 4 6]\n",
      "[8, 5, 9, 4, 0, 3, 2, 7, 4, 6]\n"
     ]
    }
   ],
   "source": [
    "y_pred = classifier.predict(X_test)\n",
    "print(type(y_pred))\n",
    "print(y_pred[-10:])\n",
    "print(y_test[-10:])"
   ]
  },
  {
   "cell_type": "code",
   "execution_count": 168,
   "metadata": {},
   "outputs": [
    {
     "name": "stdout",
     "output_type": "stream",
     "text": [
      "[[1331    0    8    2    3   17   15    5    6    0]\n",
      " [   0 1537    9    2    2    7    3    4   14    2]\n",
      " [  11   16 1282   18   23   10   20   19   40    4]\n",
      " [   6    8   48 1246    0   49    3   20   35   20]\n",
      " [   3    3   12    1 1242    4   15   15    5   50]\n",
      " [  11    5   14   37   15 1065   24    8   40   12]\n",
      " [  20    6   15    1   22   18 1293    3    9    0]\n",
      " [   6    8   19    5   16    5    1 1332    8   58]\n",
      " [   7   33   13   36   12   40   15    3 1193   16]\n",
      " [   4    9    5   16   56   13    1   45   12 1200]]\n"
     ]
    },
    {
     "data": {
      "text/plain": [
       "0.9086428571428572"
      ]
     },
     "execution_count": 168,
     "metadata": {},
     "output_type": "execute_result"
    }
   ],
   "source": [
    "#Making the Confusion Matrix\n",
    "from sklearn.metrics import confusion_matrix, accuracy_score\n",
    "cm = confusion_matrix(y_test, y_pred)\n",
    "print(cm)\n",
    "accuracy_score(y_test, y_pred)"
   ]
  }
 ],
 "metadata": {
  "kernelspec": {
   "display_name": "Python 3",
   "language": "python",
   "name": "python3"
  },
  "language_info": {
   "codemirror_mode": {
    "name": "ipython",
    "version": 3
   },
   "file_extension": ".py",
   "mimetype": "text/x-python",
   "name": "python",
   "nbconvert_exporter": "python",
   "pygments_lexer": "ipython3",
   "version": "3.7.4"
  }
 },
 "nbformat": 4,
 "nbformat_minor": 2
}
