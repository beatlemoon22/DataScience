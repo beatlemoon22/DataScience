{
 "cells": [
  {
   "cell_type": "code",
   "execution_count": 1,
   "metadata": {},
   "outputs": [],
   "source": [
    "from heapq import merge\n",
    "def mergeSort(array):\n",
    "    mid = len(array)//2\n",
    "    left = array[:mid]\n",
    "    right = array[mid:]\n",
    "    if len(array)<=1:\n",
    "        return array\n",
    "    left = mergeSort(left)\n",
    "    right = mergeSort(right)\n",
    "    return list(merge(left, right))"
   ]
  },
  {
   "cell_type": "code",
   "execution_count": 2,
   "metadata": {},
   "outputs": [
    {
     "name": "stdout",
     "output_type": "stream",
     "text": [
      "[1, 3, 7, 21]\n",
      "21\n"
     ]
    }
   ],
   "source": [
    "#outputs the kth factor \n",
    "def kthFactor(integer, k):\n",
    "    unsorted = []\n",
    "    x = int(  ((integer/2)+ 1)  )\n",
    "    for i in range(1,x+1,1):\n",
    "        if integer%i==0:\n",
    "            unsorted.append(i)\n",
    "    unsorted.append(integer)\n",
    "    print(unsorted)\n",
    "    if k<=len(unsorted):\n",
    "        return unsorted[k-1]\n",
    "    else:\n",
    "        return \"error\"\n",
    "print(kthFactor(21,4))"
   ]
  },
  {
   "cell_type": "code",
   "execution_count": null,
   "metadata": {},
   "outputs": [],
   "source": [
    "\n"
   ]
  }
 ],
 "metadata": {
  "kernelspec": {
   "display_name": "Python 3",
   "language": "python",
   "name": "python3"
  },
  "language_info": {
   "codemirror_mode": {
    "name": "ipython",
    "version": 3
   },
   "file_extension": ".py",
   "mimetype": "text/x-python",
   "name": "python",
   "nbconvert_exporter": "python",
   "pygments_lexer": "ipython3",
   "version": "3.7.4"
  }
 },
 "nbformat": 4,
 "nbformat_minor": 2
}
