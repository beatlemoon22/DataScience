{
 "cells": [
  {
   "cell_type": "code",
   "execution_count": 13,
   "metadata": {},
   "outputs": [],
   "source": [
    "from collections import defaultdict\n",
    "class Graph:\n",
    "    #Constructor\n",
    "    def __init__(self):\n",
    "        self.graph = defaultdict(list)\n",
    "        \n",
    "    def addEdge(self,u,v):\n",
    "        self.graph[u].append(v)\n",
    "        self.graph[v].append(u)\n",
    "        \n",
    "    #Inorder DFS\n",
    "    def DFS(self,v):\n",
    "        #create set to store vertices\n",
    "        visited=set()\n",
    "        \n",
    "        #call the recursive function\n",
    "        self.DFS_(v,visited)\n",
    "        \n",
    "    #recursive find\n",
    "    def DFS_(self,v, visited):\n",
    "        visited.add(v)\n",
    "        print(v)\n",
    "        \n",
    "    #recurrence step\n",
    "        for neighbour in self.graph[v]:\n",
    "            if neighbour not in visited:\n",
    "                self.DFS_(neighbour,visited)"
   ]
  },
  {
   "cell_type": "code",
   "execution_count": 14,
   "metadata": {},
   "outputs": [
    {
     "name": "stdout",
     "output_type": "stream",
     "text": [
      "2\n",
      "1\n",
      "0\n",
      "4\n",
      "3\n"
     ]
    }
   ],
   "source": [
    "#create cyclical graph\n",
    "g=Graph()\n",
    "g.addEdge(0,1)\n",
    "g.addEdge(1,2)\n",
    "g.addEdge(2,3)\n",
    "g.addEdge(3,4)\n",
    "g.addEdge(4,0)\n",
    "g.DFS(2)"
   ]
  },
  {
   "cell_type": "code",
   "execution_count": 15,
   "metadata": {},
   "outputs": [
    {
     "name": "stdout",
     "output_type": "stream",
     "text": [
      "1\n",
      "2\n",
      "4\n",
      "5\n",
      "3\n"
     ]
    }
   ],
   "source": [
    "\n",
    "g=Graph()\n",
    "g.addEdge(1,2)\n",
    "g.addEdge(2,4)\n",
    "g.addEdge(2,5)\n",
    "g.addEdge(1,3)\n",
    "g.DFS(1)"
   ]
  },
  {
   "cell_type": "code",
   "execution_count": null,
   "metadata": {},
   "outputs": [],
   "source": []
  },
  {
   "cell_type": "code",
   "execution_count": null,
   "metadata": {},
   "outputs": [],
   "source": []
  }
 ],
 "metadata": {
  "kernelspec": {
   "display_name": "Python 3",
   "language": "python",
   "name": "python3"
  },
  "language_info": {
   "codemirror_mode": {
    "name": "ipython",
    "version": 3
   },
   "file_extension": ".py",
   "mimetype": "text/x-python",
   "name": "python",
   "nbconvert_exporter": "python",
   "pygments_lexer": "ipython3",
   "version": "3.7.4"
  }
 },
 "nbformat": 4,
 "nbformat_minor": 2
}
