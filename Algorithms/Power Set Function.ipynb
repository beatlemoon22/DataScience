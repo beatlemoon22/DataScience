{
 "cells": [
  {
   "cell_type": "code",
   "execution_count": 25,
   "metadata": {},
   "outputs": [
    {
     "name": "stdout",
     "output_type": "stream",
     "text": [
      "[1, 2, 3, 4]\n",
      "16\n"
     ]
    }
   ],
   "source": [
    "import heapq\n",
    "\n",
    "def powerSet(l):\n",
    "    if len(l)==1:\n",
    "        return [l,[]]\n",
    "    x= powerSet(l[1:])\n",
    "    y = powerSet(l[1:])\n",
    "    for i in range(len(x)):\n",
    "        x[i].append(l[0])\n",
    "    x = list(heapq.merge(x,y))\n",
    "    return x\n",
    "\n",
    "y=[1,2,3,4]\n",
    "print(y)\n",
    "print(len(powerSet(y)))"
   ]
  },
  {
   "cell_type": "code",
   "execution_count": 26,
   "metadata": {},
   "outputs": [
    {
     "name": "stdout",
     "output_type": "stream",
     "text": [
      "[2, 3]\n"
     ]
    }
   ],
   "source": [
    "y = [1,2,3]\n",
    "print(y[1:])"
   ]
  },
  {
   "cell_type": "code",
   "execution_count": null,
   "metadata": {},
   "outputs": [],
   "source": []
  }
 ],
 "metadata": {
  "kernelspec": {
   "display_name": "Python 3",
   "language": "python",
   "name": "python3"
  },
  "language_info": {
   "codemirror_mode": {
    "name": "ipython",
    "version": 3
   },
   "file_extension": ".py",
   "mimetype": "text/x-python",
   "name": "python",
   "nbconvert_exporter": "python",
   "pygments_lexer": "ipython3",
   "version": "3.7.4"
  }
 },
 "nbformat": 4,
 "nbformat_minor": 2
}
