{
 "cells": [
  {
   "cell_type": "code",
   "execution_count": 101,
   "metadata": {},
   "outputs": [],
   "source": [
    "## Implementing Quick Sort"
   ]
  },
  {
   "cell_type": "code",
   "execution_count": 102,
   "metadata": {},
   "outputs": [],
   "source": [
    "import numpy as np"
   ]
  },
  {
   "cell_type": "code",
   "execution_count": 103,
   "metadata": {},
   "outputs": [],
   "source": [
    "def QuickSort(array,start,end):\n",
    "    #print(array,end=\"  \")\n",
    "    #s = \" {}, {}\".format(start,end)\n",
    "    #print(s)\n",
    "    if(start<end):\n",
    "        pIndex = partition(array,start,end)\n",
    "        QuickSort(array,start,pIndex-1)\n",
    "        QuickSort(array,pIndex+1,end)\n",
    "    return array\n",
    "        "
   ]
  },
  {
   "cell_type": "code",
   "execution_count": 104,
   "metadata": {},
   "outputs": [],
   "source": [
    "def partition(array,start,end):\n",
    "    pivot = array[end]\n",
    "    pIndex = start\n",
    "    for i in range(start,end):  \n",
    "        if array[i]<=pivot:\n",
    "            array[i],array[pIndex]=array[pIndex],array[i]\n",
    "            pIndex += 1\n",
    "    #print(\"switched \")\n",
    "    #print(array[pIndex])\n",
    "    #print(\" with \")\n",
    "    #print(array[end])\n",
    "    array[pIndex],array[end] = array[end],array[pIndex]\n",
    "    #print(\"pIndex\",end=\": \")\n",
    "    #print(pIndex)\n",
    "    return pIndex"
   ]
  },
  {
   "cell_type": "code",
   "execution_count": 109,
   "metadata": {},
   "outputs": [
    {
     "name": "stdout",
     "output_type": "stream",
     "text": [
      "[0, 1, 2, 3, 4, 5, 6, 7, 8, 9, 10, 11, 12, 13, 14, 15, 16, 17, 18, 19, 20, 21, 22, 23, 24, 25, 26, 27, 28, 29, 30, 31, 32, 33, 34, 35, 36, 37, 38, 39, 40, 41, 42, 43, 44, 45, 46, 47, 48, 49, 50, 51, 52, 53, 54, 55, 56, 57, 58, 59, 60, 61, 62, 63, 64, 65, 66, 67, 68, 69, 70, 71, 72, 73, 74, 75, 76, 77, 78, 79, 80, 81, 82, 83, 84, 85, 86, 87, 88, 89, 90, 91, 92, 93, 94, 95, 96, 97, 98, 99]\n"
     ]
    }
   ],
   "source": [
    "list1 = []\n",
    "for i in reversed(range(100)):\n",
    "    list1.append(i)\n",
    "    \n",
    "list2 = []\n",
    "for i in range(100):\n",
    "    list2.append(i)\n",
    "    \n",
    "print(QuickSort(list1,0,99))"
   ]
  },
  {
   "cell_type": "code",
   "execution_count": null,
   "metadata": {},
   "outputs": [],
   "source": []
  },
  {
   "cell_type": "code",
   "execution_count": null,
   "metadata": {},
   "outputs": [],
   "source": []
  },
  {
   "cell_type": "code",
   "execution_count": null,
   "metadata": {},
   "outputs": [],
   "source": []
  },
  {
   "cell_type": "code",
   "execution_count": null,
   "metadata": {},
   "outputs": [],
   "source": []
  }
 ],
 "metadata": {
  "kernelspec": {
   "display_name": "Python 3",
   "language": "python",
   "name": "python3"
  },
  "language_info": {
   "codemirror_mode": {
    "name": "ipython",
    "version": 3
   },
   "file_extension": ".py",
   "mimetype": "text/x-python",
   "name": "python",
   "nbconvert_exporter": "python",
   "pygments_lexer": "ipython3",
   "version": "3.7.4"
  }
 },
 "nbformat": 4,
 "nbformat_minor": 2
}
